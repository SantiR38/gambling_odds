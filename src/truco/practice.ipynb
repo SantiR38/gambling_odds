{
 "cells": [
  {
   "cell_type": "code",
   "execution_count": 1,
   "metadata": {},
   "outputs": [],
   "source": [
    "from cards import Card, Hand"
   ]
  },
  {
   "cell_type": "code",
   "execution_count": 2,
   "metadata": {},
   "outputs": [
    {
     "name": "stdout",
     "output_type": "stream",
     "text": [
      "Rey de basto, As de basto, Seis de espada\n",
      "21\n"
     ]
    }
   ],
   "source": [
    "hand = Hand.generate_random_hand()\n",
    "print(hand)\n",
    "print(hand.get_envido_points())"
   ]
  },
  {
   "cell_type": "code",
   "execution_count": 3,
   "metadata": {},
   "outputs": [],
   "source": [
    "def percentage(principal_value: int, secondary_value: int) -> str:\n",
    "    total = principal_value + secondary_value\n",
    "    return principal_value * 100 / total"
   ]
  },
  {
   "cell_type": "code",
   "execution_count": 7,
   "metadata": {},
   "outputs": [],
   "source": [
    "def predict_envido_probability(hands_number: int):\n",
    "    good = 0\n",
    "    bad = 0\n",
    "    for _ in range(hands_number):\n",
    "        hand = Hand.generate_random_hand()\n",
    "        points = hand.get_envido_points()\n",
    "        if points >= 30:\n",
    "            good += 1\n",
    "            continue\n",
    "        bad += 1\n",
    "\n",
    "    percentage_good = percentage(good, bad)\n",
    "    percentage_bad = percentage(bad, good)\n",
    "\n",
    "    print(f\"In {hands_number} hands:\")\n",
    "    print(f\"Percentage good: {percentage_good}%\")\n",
    "    print(f\"Percentage bad: {percentage_bad}%\")"
   ]
  },
  {
   "cell_type": "code",
   "execution_count": 94,
   "metadata": {},
   "outputs": [
    {
     "name": "stdout",
     "output_type": "stream",
     "text": [
      "In 800000 hands:\n",
      "Percentage good: 8.8775%\n",
      "Percentage bad: 91.1225%\n"
     ]
    }
   ],
   "source": [
    "predict_envido_probability(800000)"
   ]
  },
  {
   "cell_type": "code",
   "execution_count": 95,
   "metadata": {},
   "outputs": [
    {
     "name": "stdout",
     "output_type": "stream",
     "text": [
      "In 800000 hands:\n",
      "Percentage good: 8.887625%\n",
      "Percentage bad: 91.112375%\n"
     ]
    }
   ],
   "source": [
    "predict_envido_probability(800000)"
   ]
  }
 ],
 "metadata": {
  "interpreter": {
   "hash": "c6260043ebb0249321516a141572837a22eef641520d53e90d6123005b934065"
  },
  "kernelspec": {
   "display_name": "Python 3.9.9 ('venv': venv)",
   "language": "python",
   "name": "python3"
  },
  "language_info": {
   "codemirror_mode": {
    "name": "ipython",
    "version": 3
   },
   "file_extension": ".py",
   "mimetype": "text/x-python",
   "name": "python",
   "nbconvert_exporter": "python",
   "pygments_lexer": "ipython3",
   "version": "3.9.9"
  },
  "orig_nbformat": 4
 },
 "nbformat": 4,
 "nbformat_minor": 2
}
